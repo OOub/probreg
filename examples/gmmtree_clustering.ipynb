{
 "cells": [
  {
   "cell_type": "code",
   "execution_count": null,
   "id": "faacb326",
   "metadata": {},
   "outputs": [],
   "source": [
    "import copy\n",
    "import numpy as np\n",
    "import open3d as o3\n",
    "from probreg import gmmtree\n",
    "import time"
   ]
  },
  {
   "cell_type": "code",
   "execution_count": null,
   "id": "24b34a08",
   "metadata": {},
   "outputs": [],
   "source": [
    "# load 3D point cloud\n",
    "X = o3.io.read_point_cloud('bunny.pcd')\n",
    "\n",
    "# downsample and transform to numpy array\n",
    "X = np.asarray(X.voxel_down_sample(voxel_size=0.005).points)"
   ]
  },
  {
   "cell_type": "code",
   "execution_count": null,
   "id": "9adf9271",
   "metadata": {},
   "outputs": [],
   "source": [
    "# parameters\n",
    "tree_level = 3\n",
    "inference_level = 3\n",
    "\n",
    "# run Hierarchical GMM model\n",
    "model, params, n_nodes = gmmtree.fit(X, tree_level=tree_level)\n",
    "\n",
    "start_time = time.time()\n",
    "Y_pred = gmmtree.predict(model, X, inference_level)\n",
    "print('--- %s seconds ---' % (time.time() - start_time))\n",
    "\n",
    "start_time = time.time()\n",
    "Y_pred2 = gmmtree.predict(model, X, inference_level, True)\n",
    "print('--- %s seconds ---' % (time.time() - start_time))"
   ]
  },
  {
   "cell_type": "code",
   "execution_count": null,
   "id": "d49d0e3f",
   "metadata": {},
   "outputs": [],
   "source": [
    "import matplotlib.pyplot as plt\n",
    "\n",
    "# create a colormap with a different color per label\n",
    "N = len(np.unique(Y_pred))\n",
    "print(\"# unique labels:\", N)\n",
    "cmap = plt.cm.rainbow\n",
    "cmaplist = [cmap(i) for i in range(cmap.N)]\n",
    "cmap = cmap.from_list('cmap', cmaplist, cmap.N)\n",
    "\n",
    "# 3D scatter plot of the datapoints with colors according to their clusters\n",
    "fig = plt.figure()\n",
    "ax = fig.add_subplot(projection='3d')\n",
    "ax.scatter(X[:,0], X[:,1], X[:,2], c=Y_pred, cmap=cmap)\n",
    "ax.azim = -90\n",
    "ax.elev = 90"
   ]
  },
  {
   "cell_type": "code",
   "execution_count": null,
   "id": "52434053",
   "metadata": {},
   "outputs": [],
   "source": []
  }
 ],
 "metadata": {
  "kernelspec": {
   "display_name": "Python 3",
   "language": "python",
   "name": "python3"
  },
  "language_info": {
   "codemirror_mode": {
    "name": "ipython",
    "version": 3
   },
   "file_extension": ".py",
   "mimetype": "text/x-python",
   "name": "python",
   "nbconvert_exporter": "python",
   "pygments_lexer": "ipython3",
   "version": "3.7.6"
  }
 },
 "nbformat": 4,
 "nbformat_minor": 5
}
