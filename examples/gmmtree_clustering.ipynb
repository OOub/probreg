{
 "cells": [
  {
   "cell_type": "code",
   "execution_count": 1,
   "id": "7b3a8c3f",
   "metadata": {},
   "outputs": [],
   "source": [
    "import copy\n",
    "import numpy as np\n",
    "import open3d as o3\n",
    "from probreg import gmmtree"
   ]
  },
  {
   "cell_type": "code",
   "execution_count": 2,
   "id": "3da12bb4",
   "metadata": {},
   "outputs": [],
   "source": [
    "# load 3D point cloud\n",
    "source = o3.io.read_point_cloud('bunny.pcd')\n",
    "\n",
    "# downsample and transform to numpy array\n",
    "source = np.asarray(source.voxel_down_sample(voxel_size=0.005).points)"
   ]
  },
  {
   "cell_type": "code",
   "execution_count": 3,
   "id": "59229c7a",
   "metadata": {},
   "outputs": [],
   "source": [
    "model, params, n_nodes = gmmtree.fit(source, tree_level=3)"
   ]
  },
  {
   "cell_type": "code",
   "execution_count": 17,
   "id": "3f5e8227",
   "metadata": {},
   "outputs": [
    {
     "name": "stdout",
     "output_type": "stream",
     "text": [
      "(64,)\n",
      "(8,)\n"
     ]
    }
   ],
   "source": [
    "a = np.zeros(72)\n",
    "print(a[8:72].shape)\n",
    "print(a[:8].shape)"
   ]
  },
  {
   "cell_type": "code",
   "execution_count": null,
   "id": "31782885",
   "metadata": {},
   "outputs": [],
   "source": []
  }
 ],
 "metadata": {
  "kernelspec": {
   "display_name": "Python 3",
   "language": "python",
   "name": "python3"
  },
  "language_info": {
   "codemirror_mode": {
    "name": "ipython",
    "version": 3
   },
   "file_extension": ".py",
   "mimetype": "text/x-python",
   "name": "python",
   "nbconvert_exporter": "python",
   "pygments_lexer": "ipython3",
   "version": "3.7.6"
  }
 },
 "nbformat": 4,
 "nbformat_minor": 5
}
